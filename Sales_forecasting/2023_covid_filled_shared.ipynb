{
 "cells": [
  {
   "cell_type": "code",
   "execution_count": null,
   "id": "8d3c8a41-bfdd-4a1a-965a-c2ac6f54731e",
   "metadata": {},
   "outputs": [],
   "source": [
    "#Use environment GPU\n",
    "#Install CUDA as https://www.youtube.com/watch?v=wL5DNx4uDmc without torch been installed\n",
    "#Install neuralforecast\n",
    "#Install torch with conda install pytorch torchvision torchaudio pytorch-cuda=12.1 -c pytorch -c nvidia\n",
    "import torch\n",
    "import importlib\n",
    "import pandas as pd\n",
    "#import numpy as np\n",
    "#import matplotlib.pyplot as plt\n",
    "#import seaborn as sns\n",
    "#from datetime import datetime as dt\n",
    "#from sklearn.metrics import mean_absolute_error, r2_score\n",
    "\n",
    "#from neuralforecast import NeuralForecast\n",
    "#from neuralforecast.models import GRU\n",
    "from neuralforecast.losses.pytorch import DistributionLoss, MSE, RMSE, MAE\n",
    "\n",
    "\n",
    "print('Torch Version :',torch.__version__)\n",
    "print('Is CUDA available? :', torch.cuda.is_available())\n",
    "print('Device name :',torch.cuda.get_device_name(torch.cuda.current_device()))"
   ]
  },
  {
   "cell_type": "markdown",
   "id": "7df70eaf-4972-4fca-b37d-7d5c35d596c3",
   "metadata": {},
   "source": [
    "# Original data"
   ]
  },
  {
   "cell_type": "code",
   "execution_count": null,
   "id": "ebd4405c-2afe-48ae-bb41-9a35a0ffb79a",
   "metadata": {},
   "outputs": [],
   "source": [
    "data = pd.read_csv('Analysis/SalesbyPN.csv')\n",
    "data.PostingDate=pd.to_datetime(data['PostingDate'], format='%Y-%m-%d')\n",
    "data.Quantity=pd.to_numeric(data['Quantity'],downcast='integer')\n",
    "df=data\n",
    "tenLeadTypes=['']#list of materials\n",
    "lead_types= tenLeadTypes\n",
    "\n",
    "df=df[df['PN10'].isin(lead_types)]\n",
    "\n",
    "#data.drop(data.columns[[0]],axis=1,inplace=True)\n",
    "print(df.PN10.nunique())\n",
    "print(df.PostingDate.nunique())\n",
    "print(df.PN10.nunique()*data.PostingDate.nunique())\n",
    "#div='2023-01-01'\n",
    "\n",
    "#data=data.rename(columns={'PostingDate': 'ds', 'Quantity': 'y', 'PN10': 'unique_id'})\n",
    "#data=data.groupby(['ds','unique_id'])['y'].sum().reset_index()\n",
    "#train = data.loc[data['ds'] < div]\n",
    "#valid = data[data['ds'] >= div]\n",
    "print('Quantity: ',data['Quantity'].sum())\n",
    "df"
   ]
  },
  {
   "cell_type": "code",
   "execution_count": null,
   "id": "7fcad402-3e40-4648-a87f-beb1413a9cbd",
   "metadata": {},
   "outputs": [],
   "source": [
    "ini='2018-01-01'\n",
    "fin='2023-12-31'\n",
    "div='2023-01-01'"
   ]
  },
  {
   "cell_type": "code",
   "execution_count": null,
   "id": "7680c0db-9c73-4a13-b293-1912c9b8cf65",
   "metadata": {},
   "outputs": [],
   "source": [
    "import TrainSplit\n",
    "importlib.reload(TrainSplit) \n",
    "train,valid=TrainSplit.set_train_valid(df,ini,fin,div)\n",
    "train,valid"
   ]
  },
  {
   "cell_type": "code",
   "execution_count": null,
   "id": "beed3843-7b89-4245-b99d-c92b0dd4031d",
   "metadata": {},
   "outputs": [],
   "source": [
    "import Plotting\n",
    "importlib.reload(Plotting)\n",
    "Plotting.plot_df(train)"
   ]
  },
  {
   "cell_type": "code",
   "execution_count": null,
   "id": "309f68bf-3ae6-421c-9745-04821880ebb2",
   "metadata": {},
   "outputs": [],
   "source": [
    "h = valid['ds'].nunique()\n",
    "hiperparam={\n",
    "    'h':[h],\n",
    "    'max_steps':[5120,1024,512],\n",
    "    'encoder_activation': ['relu'],\n",
    "    'encoder_n_layers':[4,2],\n",
    "    'encoder_hidden_size':[512],\n",
    "    'context_size':[1],\n",
    "    'encoder_dropout':[0.5],\n",
    "    'decoder_hidden_size':[128],\n",
    "    'decoder_layers':[2],\n",
    "    'learning_rate':[0.001],\n",
    "    'scaler_type':['robust'],\n",
    "    'loss':[DistributionLoss(distribution='Poisson', level=[90]), MAE(), MSE(), RMSE()],\n",
    "\n",
    "}#'loss':[DistributionLoss(distribution='Poisson', level=[90]), MAE(), MSE(), RMSE()]\n",
    "folder = 'original_data'"
   ]
  },
  {
   "cell_type": "markdown",
   "id": "fedc89ce-62ff-43b9-813e-8ed8ca9d565e",
   "metadata": {},
   "source": [
    "## Primeros 5 leadtypes"
   ]
  },
  {
   "cell_type": "code",
   "execution_count": null,
   "id": "eaa77db6-7999-4990-a89e-d62f167311d2",
   "metadata": {},
   "outputs": [],
   "source": [
    "pns5=['']\n",
    "\n",
    "\n",
    "train2 = train[train['unique_id'].isin( pns5)]\n",
    "valid2 = valid[valid['unique_id'].isin( pns5)]\n",
    "train2,valid2"
   ]
  },
  {
   "cell_type": "code",
   "execution_count": null,
   "id": "682e6bad-7ca5-450d-907c-7d3fc84159c4",
   "metadata": {
    "scrolled": true
   },
   "outputs": [],
   "source": [
    "import AutoML\n",
    "importlib.reload(AutoML)\n",
    "AutoML.tunning_params(train=train2,\n",
    "                      valid=valid2,\n",
    "                      hyperparam=hiperparam,\n",
    "                     type = 'gru',\n",
    "                     folder=folder)"
   ]
  },
  {
   "cell_type": "code",
   "execution_count": null,
   "id": "999f293f-d9da-4200-b35f-d76bf7a5b1a5",
   "metadata": {},
   "outputs": [],
   "source": [
    "pns5=['']\n",
    "\n",
    "\n",
    "train2 = train[train['unique_id'].isin( pns5)]\n",
    "valid2 = valid[valid['unique_id'].isin( pns5)]\n",
    "train2,valid2"
   ]
  },
  {
   "cell_type": "code",
   "execution_count": null,
   "id": "3e92840b-aa90-44dc-867d-75c93b5fe6ce",
   "metadata": {},
   "outputs": [],
   "source": [
    "import AutoML\n",
    "importlib.reload(AutoML)\n",
    "AutoML.tunning_params(train=train2,\n",
    "                      valid=valid2,\n",
    "                      hyperparam=hiperparam,\n",
    "                     type = 'gru',\n",
    "                     folder=folder)"
   ]
  },
  {
   "cell_type": "code",
   "execution_count": null,
   "id": "c10f1d5f-5cc4-4ec6-b5aa-86e32584ff8a",
   "metadata": {},
   "outputs": [],
   "source": [
    "pns5=['']\n",
    "hiperparam={\n",
    "    'h':[h],\n",
    "    'max_steps':[1024,512],\n",
    "    'encoder_activation': ['relu'],\n",
    "    'encoder_n_layers':[4,2],\n",
    "    'encoder_hidden_size':[512],\n",
    "    'context_size':[1],\n",
    "    'encoder_dropout':[0.5],\n",
    "    'decoder_hidden_size':[128],\n",
    "    'decoder_layers':[2],\n",
    "    'learning_rate':[0.001],\n",
    "    'scaler_type':['robust'],\n",
    "    'loss':[DistributionLoss(distribution='Poisson', level=[90]), MAE(), MSE(), RMSE()],\n",
    "\n",
    "}\n",
    "\n",
    "train2 = train[train['unique_id'].isin( pns5)]\n",
    "valid2 = valid[valid['unique_id'].isin( pns5)]\n",
    "train2,valid2"
   ]
  },
  {
   "cell_type": "code",
   "execution_count": null,
   "id": "703038f4-a49d-4280-9438-b7ef46e234d5",
   "metadata": {},
   "outputs": [],
   "source": [
    "import AutoML\n",
    "importlib.reload(AutoML)\n",
    "AutoML.tunning_params(train=train2,\n",
    "                      valid=valid2,\n",
    "                      hyperparam=hiperparam,\n",
    "                     type = 'gru',\n",
    "                     folder=folder)"
   ]
  },
  {
   "cell_type": "markdown",
   "id": "aa8d99d1-1458-43c3-a16c-4f35fe41a66e",
   "metadata": {},
   "source": [
    "## Ultimos 5"
   ]
  },
  {
   "cell_type": "code",
   "execution_count": null,
   "id": "923a5cec-edea-402a-ad3e-e45e228be6da",
   "metadata": {},
   "outputs": [],
   "source": [
    "pns5=['']\n",
    "\n",
    "train2 = train[train['unique_id'].isin( pns5)]\n",
    "valid2 = valid[valid['unique_id'].isin( pns5)]\n",
    "train2,valid2"
   ]
  },
  {
   "cell_type": "code",
   "execution_count": null,
   "id": "7ac7272e-cc2e-4126-9afe-fb4d8f2306cf",
   "metadata": {},
   "outputs": [],
   "source": [
    "import AutoML\n",
    "importlib.reload(AutoML)\n",
    "AutoML.tunning_params(train=train2,\n",
    "                      valid=valid2,\n",
    "                      hyperparam=hiperparam,\n",
    "                     type = 'gru',\n",
    "                     folder=folder)"
   ]
  },
  {
   "cell_type": "code",
   "execution_count": null,
   "id": "1f42bc61-cbf8-416e-a8e7-274d078b2b63",
   "metadata": {},
   "outputs": [],
   "source": [
    "pns5=['']\n",
    "\n",
    "train2 = train[train['unique_id'].isin( pns5)]\n",
    "valid2 = valid[valid['unique_id'].isin( pns5)]\n",
    "train2,valid2"
   ]
  },
  {
   "cell_type": "code",
   "execution_count": null,
   "id": "533d998d-992a-4a8e-b0b2-4dcd9070982c",
   "metadata": {
    "scrolled": true
   },
   "outputs": [],
   "source": [
    "import AutoML\n",
    "importlib.reload(AutoML)\n",
    "AutoML.tunning_params(train=train2,\n",
    "                      valid=valid2,\n",
    "                      hyperparam=hiperparam,\n",
    "                     type = 'gru',\n",
    "                     folder=folder)"
   ]
  },
  {
   "cell_type": "code",
   "execution_count": null,
   "id": "17045562-5642-49e0-89c4-4a57f8701d34",
   "metadata": {},
   "outputs": [],
   "source": [
    "pns5=['']\n",
    "\n",
    "train2 = train[train['unique_id'].isin( pns5)]\n",
    "valid2 = valid[valid['unique_id'].isin( pns5)]\n",
    "train2,valid2"
   ]
  },
  {
   "cell_type": "code",
   "execution_count": null,
   "id": "f518d146-525a-4231-8a77-0a94a95b5b37",
   "metadata": {
    "scrolled": true
   },
   "outputs": [],
   "source": [
    "import AutoML\n",
    "importlib.reload(AutoML)\n",
    "AutoML.tunning_params(train=train2,\n",
    "                      valid=valid2,\n",
    "                      hyperparam=hiperparam,\n",
    "                     type = 'gru',\n",
    "                     folder=folder)"
   ]
  },
  {
   "cell_type": "code",
   "execution_count": null,
   "id": "93a9263a-599f-4fea-baeb-173448272ff7",
   "metadata": {},
   "outputs": [],
   "source": [
    "pns5=['']\n",
    "\n",
    "train2 = train[train['unique_id'].isin( pns5)]\n",
    "valid2 = valid[valid['unique_id'].isin( pns5)]\n",
    "train2,valid2"
   ]
  },
  {
   "cell_type": "code",
   "execution_count": null,
   "id": "e7750d4c-9afe-4ee2-aa02-f86b099a7ce2",
   "metadata": {
    "scrolled": true
   },
   "outputs": [],
   "source": [
    "import AutoML\n",
    "importlib.reload(AutoML)\n",
    "AutoML.tunning_params(train=train2,\n",
    "                      valid=valid2,\n",
    "                      hyperparam=hiperparam,\n",
    "                     type = 'gru',\n",
    "                     folder=folder)"
   ]
  },
  {
   "cell_type": "code",
   "execution_count": null,
   "id": "d2d9f361-4a57-4e84-83db-095538dcd508",
   "metadata": {},
   "outputs": [],
   "source": [
    "pns5=['']\n",
    "hiperparam={\n",
    "    'h':[h],\n",
    "    'max_steps':[1024,512],\n",
    "    'encoder_activation': ['relu'],\n",
    "    'encoder_n_layers':[4],\n",
    "    'encoder_hidden_size':[512],\n",
    "    'context_size':[1],\n",
    "    'encoder_dropout':[0.5],\n",
    "    'decoder_hidden_size':[128],\n",
    "    'decoder_layers':[2],\n",
    "    'learning_rate':[0.001],\n",
    "    'scaler_type':['robust'],\n",
    "    'loss':[DistributionLoss(distribution='Poisson', level=[90]), MAE(), MSE(), RMSE()],\n",
    "\n",
    "}\n",
    "train2 = train[train['unique_id'].isin( pns5)]\n",
    "valid2 = valid[valid['unique_id'].isin( pns5)]\n",
    "train2,valid2"
   ]
  },
  {
   "cell_type": "code",
   "execution_count": null,
   "id": "c10700ce-46a1-4966-81e1-af2a1e9b3f85",
   "metadata": {},
   "outputs": [],
   "source": [
    "import AutoML\n",
    "importlib.reload(AutoML)\n",
    "AutoML.tunning_params(train=train2,\n",
    "                      valid=valid2,\n",
    "                      hyperparam=hiperparam,\n",
    "                     type = 'gru',\n",
    "                     folder=folder)"
   ]
  },
  {
   "cell_type": "code",
   "execution_count": null,
   "id": "1893ef6d-3dad-4cdd-84d0-57e851232e7c",
   "metadata": {},
   "outputs": [],
   "source": [
    "# Setter the best hyperparams\n",
    "#'' is the only one with 5120 steps\n",
    "pns5=['']#\n",
    "hiperparam={\n",
    "    'h':[h],\n",
    "    'max_steps':[512],\n",
    "    'encoder_activation': ['relu'],\n",
    "    'encoder_n_layers':[4],\n",
    "    'encoder_hidden_size':[512],\n",
    "    'context_size':[1],\n",
    "    'encoder_dropout':[0.5],\n",
    "    'decoder_hidden_size':[128],\n",
    "    'decoder_layers':[2],\n",
    "    'learning_rate':[0.001],\n",
    "    'scaler_type':['robust'],\n",
    "    'loss':[RMSE()]\n",
    "\n",
    "}#DistributionLoss(distribution='Poisson', level=[90]), MAE(), MSE(), RMSE()\n",
    "train2 = train[train['unique_id'].isin( pns5)]\n",
    "valid2 = valid[valid['unique_id'].isin( pns5)]\n",
    "train2,valid2"
   ]
  },
  {
   "cell_type": "code",
   "execution_count": null,
   "id": "fa9124db-53a8-4501-80db-d5bcb775878e",
   "metadata": {},
   "outputs": [],
   "source": [
    "import AutoML\n",
    "importlib.reload(AutoML)\n",
    "AutoML.tunning_params(train=train2,\n",
    "                      valid=valid2,\n",
    "                      hyperparam=hiperparam,\n",
    "                     type = 'gru',\n",
    "                     folder=folder)"
   ]
  },
  {
   "cell_type": "markdown",
   "id": "2d59d7bd-3000-4127-845b-9054e5fe6629",
   "metadata": {},
   "source": [
    "## Plotting section"
   ]
  },
  {
   "cell_type": "code",
   "execution_count": null,
   "id": "2cbd3c33-d6a0-46c1-abd2-79b12b4454f1",
   "metadata": {},
   "outputs": [],
   "source": [
    "#COVID NOT FILLED\n",
    "import Make_Preds\n",
    "importlib.reload(Make_Preds)\n",
    "p_original = Make_Preds.make_pred(valid=valid,folder=folder)\n",
    "print(p_original)\n",
    "import Plotting\n",
    "importlib.reload(Plotting)\n",
    "Plotting.plot_test(p_original,by='Week')"
   ]
  },
  {
   "cell_type": "markdown",
   "id": "45783e81-f447-4ee4-aed1-b282a69f11b6",
   "metadata": {},
   "source": [
    "# Covid filled\n",
    "Due to computational resources, the steps will no consider 5120, this requieres a lot of time"
   ]
  },
  {
   "cell_type": "code",
   "execution_count": null,
   "id": "521985c7-e63c-4d3b-9e83-3c943c576a91",
   "metadata": {},
   "outputs": [],
   "source": [
    "train"
   ]
  },
  {
   "cell_type": "code",
   "execution_count": null,
   "id": "07ce22fd-c04a-40d3-b26e-4e9e6ed275dc",
   "metadata": {},
   "outputs": [],
   "source": [
    "covid = pd.read_csv('covid_pred_best/covid_prediction.csv')\n",
    "covid = covid.drop(['y'], axis=1)\n",
    "covid['y'] = covid['GRU'].round().abs()\n",
    "covid = covid.drop(['GRU'], axis=1)\n",
    "\n",
    "covid.ds = pd.to_datetime(covid.ds, format='%Y-%m-%d')\n",
    "covid.y = pd.to_numeric(covid.y,downcast='integer')\n",
    "\n",
    "covid.dtypes,covid"
   ]
  },
  {
   "cell_type": "code",
   "execution_count": null,
   "id": "2b7a918c-8649-445d-a906-c347bb56614d",
   "metadata": {},
   "outputs": [],
   "source": [
    "train_no_covid = train.copy()\n",
    "train_no_covid['id'] = train_no_covid['Year'].astype('str') + train_no_covid['Month'].astype('str')\n",
    "rows_to_drop = ['20203','20204','20205'] \n",
    "train_no_covid = train_no_covid.loc[(~train_no_covid['id'].isin(rows_to_drop))]\n",
    "#train_no_covid = train.loc[ train['Year']==2020.0]\n",
    "#print(train_no_covid['id'].unique())\n",
    "train_no_covid = train_no_covid.drop(['id'], axis=1)\n",
    "train_no_covid.dtypes,train_no_covid"
   ]
  },
  {
   "cell_type": "code",
   "execution_count": null,
   "id": "5430b196-f414-4a0e-b9a6-73b0a2a73eb1",
   "metadata": {},
   "outputs": [],
   "source": [
    "train_covid_filled = train_no_covid.append(covid)\n",
    "train_covid_filled"
   ]
  },
  {
   "cell_type": "code",
   "execution_count": null,
   "id": "01fa7527-fa57-4647-bd54-b75948eeac7b",
   "metadata": {},
   "outputs": [],
   "source": [
    "import Plotting\n",
    "importlib.reload(Plotting)\n",
    "Plotting.plot_df(train_covid_filled)"
   ]
  },
  {
   "cell_type": "code",
   "execution_count": null,
   "id": "45f6ce69-0e2d-41be-9297-8f33a7ab98fc",
   "metadata": {},
   "outputs": [],
   "source": [
    "h = valid['ds'].nunique()\n",
    "hiperparam={\n",
    "    'h':[h],\n",
    "    'max_steps':[1024,512],\n",
    "    'encoder_activation': ['relu'],\n",
    "    'encoder_n_layers':[4,2],\n",
    "    'encoder_hidden_size':[512],\n",
    "    'context_size':[1],\n",
    "    'encoder_dropout':[0.5],\n",
    "    'decoder_hidden_size':[128],\n",
    "    'decoder_layers':[2],\n",
    "    'learning_rate':[0.001],\n",
    "    'scaler_type':['robust'],\n",
    "    'loss':[DistributionLoss(distribution='Poisson', level=[90]), MAE(), MSE(), RMSE()]\n",
    "\n",
    "}\n",
    "folder = 'covid_filled'"
   ]
  },
  {
   "cell_type": "markdown",
   "id": "7dcc7eb6-5f65-4cc7-b5bc-2ccfe513e41b",
   "metadata": {},
   "source": [
    "# Covid arreglado"
   ]
  },
  {
   "cell_type": "markdown",
   "id": "6a5cfe2d-ba7e-4eb9-ad85-910e5936a763",
   "metadata": {},
   "source": [
    "## Primeros 5 leadtypes"
   ]
  },
  {
   "cell_type": "code",
   "execution_count": null,
   "id": "08ae963e-98e5-40ea-903e-c85740c7a8e6",
   "metadata": {},
   "outputs": [],
   "source": [
    "pns5=['']\n",
    "\n",
    "\n",
    "train2 = train_covid_filled[train_covid_filled['unique_id'].isin( pns5)]\n",
    "valid2 = valid[valid['unique_id'].isin( pns5)]\n",
    "train2,valid2"
   ]
  },
  {
   "cell_type": "code",
   "execution_count": null,
   "id": "22160a87-f38e-47b3-b485-7ef60c6b00fd",
   "metadata": {
    "scrolled": true
   },
   "outputs": [],
   "source": [
    "import AutoML\n",
    "importlib.reload(AutoML)\n",
    "AutoML.tunning_params(train=train2,\n",
    "                      valid=valid2,\n",
    "                      hyperparam=hiperparam,\n",
    "                     type = 'gru',\n",
    "                     folder=folder)"
   ]
  },
  {
   "cell_type": "code",
   "execution_count": null,
   "id": "7e4df11c-a778-421f-a9f2-456e192c4b20",
   "metadata": {},
   "outputs": [],
   "source": [
    "pns5=['']\n",
    "hiperparam={\n",
    "    'h':[h],\n",
    "    'max_steps':[512],\n",
    "    'encoder_activation': ['relu'],\n",
    "    'encoder_n_layers':[4,2],\n",
    "    'encoder_hidden_size':[512],\n",
    "    'context_size':[1],\n",
    "    'encoder_dropout':[0.5],\n",
    "    'decoder_hidden_size':[128],\n",
    "    'decoder_layers':[2],\n",
    "    'learning_rate':[0.001],\n",
    "    'scaler_type':['robust'],\n",
    "    'loss':[DistributionLoss(distribution='Poisson', level=[90]), MAE(), MSE(), RMSE()]\n",
    "\n",
    "}\n",
    "\n",
    "train2 = train_covid_filled[train_covid_filled['unique_id'].isin( pns5)]\n",
    "valid2 = valid[valid['unique_id'].isin( pns5)]\n",
    "train2,valid2"
   ]
  },
  {
   "cell_type": "code",
   "execution_count": null,
   "id": "99e4f32a-5da7-4af0-8932-65328b4b5369",
   "metadata": {
    "scrolled": true
   },
   "outputs": [],
   "source": [
    "import AutoML\n",
    "importlib.reload(AutoML)\n",
    "AutoML.tunning_params(train=train2,\n",
    "                      valid=valid2,\n",
    "                      hyperparam=hiperparam,\n",
    "                     type = 'gru',\n",
    "                     folder=folder)"
   ]
  },
  {
   "cell_type": "markdown",
   "id": "999847b7-fee4-47ca-b0e0-a424b139ab0a",
   "metadata": {},
   "source": [
    "## Ultimos 5"
   ]
  },
  {
   "cell_type": "code",
   "execution_count": null,
   "id": "16e48242-0813-4ada-bfd8-de451e98bc6a",
   "metadata": {},
   "outputs": [],
   "source": [
    "pns5=['']\n",
    "hiperparam={\n",
    "    'h':[h],\n",
    "    'max_steps':[5120,1024,512],\n",
    "    'encoder_activation': ['relu'],\n",
    "    'encoder_n_layers':[4,2],\n",
    "    'encoder_hidden_size':[512],\n",
    "    'context_size':[1],\n",
    "    'encoder_dropout':[0.5],\n",
    "    'decoder_hidden_size':[128],\n",
    "    'decoder_layers':[2],\n",
    "    'learning_rate':[0.001],\n",
    "    'scaler_type':['robust'],\n",
    "    'loss':[DistributionLoss(distribution='Poisson', level=[90]), MAE(), MSE(), RMSE()]\n",
    "\n",
    "}\n",
    "train2 = train_covid_filled[train_covid_filled['unique_id'].isin( pns5)]\n",
    "valid2 = valid[valid['unique_id'].isin( pns5)]\n",
    "train2,valid2"
   ]
  },
  {
   "cell_type": "code",
   "execution_count": null,
   "id": "f61a1f08-d3d6-43be-b91b-53f608172c40",
   "metadata": {},
   "outputs": [],
   "source": [
    "import AutoML\n",
    "importlib.reload(AutoML)\n",
    "AutoML.tunning_params(train=train2,\n",
    "                      valid=valid2,\n",
    "                      hyperparam=hiperparam,\n",
    "                     type = 'gru',\n",
    "                     folder=folder)"
   ]
  },
  {
   "cell_type": "code",
   "execution_count": null,
   "id": "178695f5-1af3-440c-9e07-4b03c78478e6",
   "metadata": {},
   "outputs": [],
   "source": [
    "folder"
   ]
  },
  {
   "cell_type": "code",
   "execution_count": null,
   "id": "83410843-80a6-45f4-8e06-839161f5940e",
   "metadata": {},
   "outputs": [],
   "source": [
    "pns5=['']\n",
    "\n",
    "train2 = train_covid_filled[train_covid_filled['unique_id'].isin( pns5)]\n",
    "valid2 = valid[valid['unique_id'].isin( pns5)]\n",
    "train2,valid2"
   ]
  },
  {
   "cell_type": "code",
   "execution_count": null,
   "id": "1a9f2e23-04ea-4c42-9c47-fcfd29a3c70a",
   "metadata": {
    "scrolled": true
   },
   "outputs": [],
   "source": [
    "import AutoML\n",
    "importlib.reload(AutoML)\n",
    "AutoML.tunning_params(train=train2,\n",
    "                      valid=valid2,\n",
    "                      hyperparam=hiperparam,\n",
    "                     type = 'gru',\n",
    "                     folder=folder)"
   ]
  },
  {
   "cell_type": "code",
   "execution_count": null,
   "id": "801540f9-9bce-4d01-bd44-d543dc5714a2",
   "metadata": {},
   "outputs": [],
   "source": [
    "pns5=['']\n",
    "hiperparam={\n",
    "    'h':[h],\n",
    "    'max_steps':[1024],\n",
    "    'encoder_activation': ['relu'],\n",
    "    'encoder_n_layers':[4],\n",
    "    'encoder_hidden_size':[512],\n",
    "    'context_size':[1],\n",
    "    'encoder_dropout':[0.5],\n",
    "    'decoder_hidden_size':[128],\n",
    "    'decoder_layers':[2],\n",
    "    'learning_rate':[0.001],\n",
    "    'scaler_type':['robust'],\n",
    "    'loss':[MAE()]\n",
    "\n",
    "}\n",
    "#[DistributionLoss(distribution='Poisson', level=[90]), MAE(), MSE(), RMSE()]\n",
    "train2 = train_covid_filled[train_covid_filled['unique_id'].isin( pns5)]\n",
    "valid2 = valid[valid['unique_id'].isin( pns5)]\n",
    "train2,valid2"
   ]
  },
  {
   "cell_type": "code",
   "execution_count": null,
   "id": "1319e59e-08f8-4bd7-880f-bb54ddea9cbe",
   "metadata": {
    "scrolled": true
   },
   "outputs": [],
   "source": [
    "import AutoML\n",
    "importlib.reload(AutoML)\n",
    "AutoML.tunning_params(train=train2,\n",
    "                      valid=valid2,\n",
    "                      hyperparam=hiperparam,\n",
    "                     type = 'gru',\n",
    "                     folder=folder)"
   ]
  },
  {
   "cell_type": "markdown",
   "id": "3e40123c-d9a7-4fa2-b6ce-7d83049e399e",
   "metadata": {},
   "source": [
    "## Plotting section"
   ]
  },
  {
   "cell_type": "code",
   "execution_count": null,
   "id": "99d5586f-ce51-424d-b830-a91f702e33b9",
   "metadata": {},
   "outputs": [],
   "source": [
    "import Make_Preds\n",
    "importlib.reload(Make_Preds)\n",
    "p_covid = Make_Preds.make_pred(valid=valid,folder=folder)\n",
    "print(p_covid)\n",
    "import Plotting\n",
    "importlib.reload(Plotting)\n",
    "Plotting.plot_test(p_covid,by='Week')"
   ]
  },
  {
   "cell_type": "markdown",
   "id": "ce16729e-2787-4f64-9d6c-61cbafef7854",
   "metadata": {},
   "source": [
    "# From 2021"
   ]
  },
  {
   "cell_type": "code",
   "execution_count": null,
   "id": "5f835fa0-8adc-4858-a025-861cf16ba88a",
   "metadata": {},
   "outputs": [],
   "source": [
    "ini='2021-01-01'\n",
    "fin='2023-12-31'\n",
    "div='2023-01-01'"
   ]
  },
  {
   "cell_type": "code",
   "execution_count": null,
   "id": "b242910f-e338-4f99-9c9b-ba8a0f079af6",
   "metadata": {},
   "outputs": [],
   "source": [
    "import TrainSplit\n",
    "importlib.reload(TrainSplit) \n",
    "train3,valid3=TrainSplit.set_train_valid(df,ini,fin,div)\n",
    "train3,valid3"
   ]
  },
  {
   "cell_type": "code",
   "execution_count": null,
   "id": "07ad1553-baed-478a-9fc7-0b617e638c9b",
   "metadata": {},
   "outputs": [],
   "source": [
    "import Plotting\n",
    "importlib.reload(Plotting)\n",
    "Plotting.plot_df(train3)"
   ]
  },
  {
   "cell_type": "code",
   "execution_count": null,
   "id": "9fa52979-a0cb-4cfd-b05f-c36277d64db6",
   "metadata": {},
   "outputs": [],
   "source": [
    "h = valid3['ds'].nunique()\n",
    "hiperparam={\n",
    "    'h':[h],\n",
    "    'max_steps':[1024,512],\n",
    "    'encoder_activation': ['relu'],\n",
    "    'encoder_n_layers':[4,2],\n",
    "    'encoder_hidden_size':[512],\n",
    "    'context_size':[1],\n",
    "    'encoder_dropout':[0.5],\n",
    "    'decoder_hidden_size':[128],\n",
    "    'decoder_layers':[2],\n",
    "    'learning_rate':[0.001],\n",
    "    'scaler_type':['robust'],\n",
    "    'loss':[DistributionLoss(distribution='Poisson', level=[90]), MAE(), MSE(), RMSE()],\n",
    "\n",
    "}#'loss':[DistributionLoss(distribution='Poisson', level=[90]), MAE(), MSE(), RMSE()]\n",
    "folder = 'From2021'"
   ]
  },
  {
   "cell_type": "markdown",
   "id": "f3456cd7-2ca5-4a31-96db-1f50917b650d",
   "metadata": {},
   "source": [
    "## Primeros 5"
   ]
  },
  {
   "cell_type": "code",
   "execution_count": null,
   "id": "73512aec-9cd3-4af6-ad32-891dd66da39d",
   "metadata": {},
   "outputs": [],
   "source": [
    "pns5=['']\n",
    "\n",
    "\n",
    "train2 = train3[train3['unique_id'].isin( pns5)]\n",
    "valid2 = valid3[valid3['unique_id'].isin( pns5)]\n",
    "train2,valid2"
   ]
  },
  {
   "cell_type": "code",
   "execution_count": null,
   "id": "4fe0586c-b9eb-439c-a2ba-b486ac6db86a",
   "metadata": {
    "scrolled": true
   },
   "outputs": [],
   "source": [
    "import AutoML\n",
    "importlib.reload(AutoML)\n",
    "AutoML.tunning_params(train=train2,\n",
    "                      valid=valid2,\n",
    "                      hyperparam=hiperparam,\n",
    "                     type = 'gru',\n",
    "                     folder=folder)"
   ]
  },
  {
   "cell_type": "code",
   "execution_count": null,
   "id": "75ca4439-f96e-404a-b67d-c61635abbda8",
   "metadata": {
    "scrolled": true
   },
   "outputs": [],
   "source": [
    "pns5=['']\n",
    "\n",
    "\n",
    "train2 = train3[train3['unique_id'].isin( pns5)]\n",
    "valid2 = valid3[valid3['unique_id'].isin( pns5)]\n",
    "train2,valid2"
   ]
  },
  {
   "cell_type": "code",
   "execution_count": null,
   "id": "d409c7a0-7822-43f3-af62-66869f344539",
   "metadata": {
    "scrolled": true
   },
   "outputs": [],
   "source": [
    "import AutoML\n",
    "importlib.reload(AutoML)\n",
    "AutoML.tunning_params(train=train2,\n",
    "                      valid=valid2,\n",
    "                      hyperparam=hiperparam,\n",
    "                     type = 'gru',\n",
    "                     folder=folder)"
   ]
  },
  {
   "cell_type": "code",
   "execution_count": null,
   "id": "c2546e0c-27d4-466c-bf9f-73e56f1683bf",
   "metadata": {},
   "outputs": [],
   "source": [
    "pns5=['']\n",
    "\n",
    "hiperparam={\n",
    "    'h':[h],\n",
    "    'max_steps':[1024],\n",
    "    'encoder_activation': ['relu'],\n",
    "    'encoder_n_layers':[2],\n",
    "    'encoder_hidden_size':[512],\n",
    "    'context_size':[1],\n",
    "    'encoder_dropout':[0.5],\n",
    "    'decoder_hidden_size':[128],\n",
    "    'decoder_layers':[2],\n",
    "    'learning_rate':[0.001],\n",
    "    'scaler_type':['robust'],\n",
    "    'loss':[DistributionLoss(distribution='Poisson', level=[90])]\n",
    "\n",
    "}\n",
    "# [DistributionLoss(distribution='Poisson', level=[90]), MAE(), MSE(), RMSE()]\n",
    "train2 = train3[train3['unique_id'].isin( pns5)]\n",
    "valid2 = valid3[valid3['unique_id'].isin( pns5)]\n",
    "train2,valid2"
   ]
  },
  {
   "cell_type": "code",
   "execution_count": null,
   "id": "cb0a2677-5f74-4b5f-bdee-ccc3601fb9e7",
   "metadata": {},
   "outputs": [],
   "source": [
    "import AutoML\n",
    "importlib.reload(AutoML)\n",
    "AutoML.tunning_params(train=train2,\n",
    "                      valid=valid2,\n",
    "                      hyperparam=hiperparam,\n",
    "                     type = 'gru',\n",
    "                     folder=folder)"
   ]
  },
  {
   "cell_type": "markdown",
   "id": "762c1381-d572-4dba-ba96-440821379504",
   "metadata": {},
   "source": [
    "## Plotting"
   ]
  },
  {
   "cell_type": "code",
   "execution_count": null,
   "id": "60ab6e14-028f-400f-a018-34730b64079b",
   "metadata": {},
   "outputs": [],
   "source": [
    "# From 2021\n",
    "import Make_Preds\n",
    "importlib.reload(Make_Preds)\n",
    "p_covid = Make_Preds.make_pred(valid=valid3,folder=folder)\n",
    "print(p_covid)\n",
    "import Plotting\n",
    "importlib.reload(Plotting)\n",
    "Plotting.plot_test(p_covid,by='Week')"
   ]
  },
  {
   "cell_type": "code",
   "execution_count": null,
   "id": "e84321f9-69b6-4270-966b-4ae8de821ac5",
   "metadata": {},
   "outputs": [],
   "source": [
    "\n",
    "\n",
    "\n",
    "p_covid.to_csv('Analysis/from_2021.csv',index=False)"
   ]
  },
  {
   "cell_type": "code",
   "execution_count": null,
   "id": "9ceb15b6-9fec-4462-847c-95cbfb0f4a62",
   "metadata": {},
   "outputs": [],
   "source": [
    "p_from_2021 = p_covid.copy().groupby(['Month']).agg({'GRU':'sum','y':'sum'}).reset_index()\n",
    "p_from_2021 = p_from_2021.astype(int)\n",
    "p_from_2021['GRU_cum'] = p_from_2021['GRU'].cumsum()\n",
    "p_from_2021['y_cum'] = p_from_2021['y'].cumsum()\n",
    "p_from_2021.to_csv('Analysis/from_2021.csv',index=False)\n",
    "p_from_2021"
   ]
  },
  {
   "cell_type": "markdown",
   "id": "408e52aa-bbb7-4e27-b96c-bbbd8c2ac961",
   "metadata": {
    "editable": true,
    "slideshow": {
     "slide_type": ""
    },
    "tags": []
   },
   "source": [
    "# Comparing plots"
   ]
  },
  {
   "cell_type": "code",
   "execution_count": null,
   "id": "59d87184-e4ae-495d-868f-919bf2125ccb",
   "metadata": {
    "scrolled": true
   },
   "outputs": [],
   "source": [
    "#COVID NOT FILLED\n",
    "import Make_Preds\n",
    "importlib.reload(Make_Preds)\n",
    "p_original = Make_Preds.make_pred(valid=valid,folder=folder)\n",
    "print(p_original)\n",
    "import Plotting\n",
    "importlib.reload(Plotting)\n",
    "Plotting.plot_test(p_original,by='Week')"
   ]
  },
  {
   "cell_type": "code",
   "execution_count": null,
   "id": "402f4460-6473-4b94-a770-017b5138aef6",
   "metadata": {
    "scrolled": true
   },
   "outputs": [],
   "source": [
    "# Covid Filled\n",
    "import Make_Preds\n",
    "importlib.reload(Make_Preds)\n",
    "p_covid = Make_Preds.make_pred(valid=valid,folder=folder)\n",
    "print(p_covid)\n",
    "import Plotting\n",
    "importlib.reload(Plotting)\n",
    "Plotting.plot_test(p_covid,by='Week')"
   ]
  },
  {
   "cell_type": "code",
   "execution_count": null,
   "id": "110703ea-af0b-44c9-a5aa-a590cc03f78d",
   "metadata": {
    "scrolled": true
   },
   "outputs": [],
   "source": [
    "# From 2021\n",
    "import Make_Preds\n",
    "importlib.reload(Make_Preds)\n",
    "p_covid = Make_Preds.make_pred(valid=valid,folder=folder)\n",
    "print(p_covid)\n",
    "import Plotting\n",
    "importlib.reload(Plotting)\n",
    "Plotting.plot_test(p_covid,by='Week')"
   ]
  },
  {
   "cell_type": "code",
   "execution_count": null,
   "id": "2bd8c263-2c0b-4ed6-8dcc-72e6705a2b18",
   "metadata": {},
   "outputs": [],
   "source": [
    "folders = ['original_data','covid_filled','From2021']"
   ]
  },
  {
   "cell_type": "code",
   "execution_count": null,
   "id": "d3f32828-cae5-41c1-b3bc-8ebfd69ed081",
   "metadata": {},
   "outputs": [],
   "source": [
    "lead_types"
   ]
  },
  {
   "cell_type": "code",
   "execution_count": null,
   "id": "afc0b851-a4e9-44a7-a3d8-b3ba47f95492",
   "metadata": {},
   "outputs": [],
   "source": [
    "dataf = pd.DataFrame()\n",
    "for folder in folders :\n",
    "    for pn in lead_types:\n",
    "        path=folder + '/' + pn + '/doe.csv'\n",
    "        bestparam = pd.read_csv(path)\n",
    "        bestparam = bestparam[bestparam['Best Model']==1]\n",
    "        \n",
    "        bestparam['Folder'] = folder\n",
    "        dataf = dataf.append(bestparam)\n",
    "dataf = dataf.sort_values(by = ['PN','Folder'],ascending = [True,False]).reset_index(drop = True)\n",
    "dataf.to_csv('2023_covid_filled_results.csv',index = False)\n",
    "dataf        "
   ]
  },
  {
   "cell_type": "code",
   "execution_count": null,
   "id": "cd87dbc2-a6cb-490d-b8d2-5e4927050eda",
   "metadata": {},
   "outputs": [],
   "source": [
    "data = dataf[['Folder','PN','max_steps','encoder_n_layers','loss','Year','MAE','R2','Pearson']].copy()"
   ]
  },
  {
   "cell_type": "markdown",
   "id": "75b6f1f7-4b52-403b-b117-bfaab0f039bb",
   "metadata": {},
   "source": [
    "## data"
   ]
  },
  {
   "cell_type": "code",
   "execution_count": null,
   "id": "45ff33dd-eac6-4a67-88e7-8f0ba8613f97",
   "metadata": {},
   "outputs": [],
   "source": [
    "data"
   ]
  },
  {
   "cell_type": "code",
   "execution_count": null,
   "id": "c7a8b4eb-5b38-4b28-bcd4-62dc652ad9d3",
   "metadata": {},
   "outputs": [],
   "source": [
    "import Plotting\n",
    "importlib.reload(Plotting)\n",
    "Plotting.plot_df(train)"
   ]
  },
  {
   "cell_type": "code",
   "execution_count": null,
   "id": "eb58792f-4843-49e7-9ede-b8cc515e6c08",
   "metadata": {},
   "outputs": [],
   "source": [
    "train"
   ]
  },
  {
   "cell_type": "markdown",
   "id": "ab2b3181-6c2f-4375-ba96-bcadfa92fe93",
   "metadata": {},
   "source": [
    "# Conclusions"
   ]
  },
  {
   "cell_type": "code",
   "execution_count": null,
   "id": "69d92a2f-d5a3-4f73-8173-c200b8bbe5da",
   "metadata": {},
   "outputs": [],
   "source": [
    "Why was chosen the Grid Search methodology for hyperparameters was due to controlle the results\n",
    "\n",
    "To fill covid period with predictions represent gains for certain types of distribution of data, principally, \n",
    "those which have a sequence trending, selling once per week. However, the computational cost is important for only 8% better result in Pearson correlation, \n",
    "and 5% in MAE metric.\n",
    "\n",
    "By 2024 or 2025 prediction is Even better does not count values for a period before 2021, this make sense, because exist new paradigms in data, for example,\n",
    "products which are obsoletes and will not be sold for future years. This is way is so important make the development with sales and Logistics departments support.\n",
    "\n"
   ]
  }
 ],
 "metadata": {
  "kernelspec": {
   "display_name": "Python 3 (ipykernel)",
   "language": "python",
   "name": "python3"
  },
  "language_info": {
   "codemirror_mode": {
    "name": "ipython",
    "version": 3
   },
   "file_extension": ".py",
   "mimetype": "text/x-python",
   "name": "python",
   "nbconvert_exporter": "python",
   "pygments_lexer": "ipython3",
   "version": "3.10.13"
  }
 },
 "nbformat": 4,
 "nbformat_minor": 5
}
