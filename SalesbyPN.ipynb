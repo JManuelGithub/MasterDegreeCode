{
 "cells": [
  {
   "cell_type": "code",
   "execution_count": 1,
   "id": "f02f678f-4e61-4d28-94c3-1ec1df990135",
   "metadata": {},
   "outputs": [],
   "source": [
    "import pandas as pd\n",
    "import matplotlib.pyplot as plt\n",
    "from datetime import datetime as dt"
   ]
  },
  {
   "cell_type": "code",
   "execution_count": 2,
   "id": "7edc2568-444a-461e-b048-ff0b4e0440f6",
   "metadata": {},
   "outputs": [],
   "source": [
    "#Create dataframe from data\n",
    "data=pd.read_csv('Sales.csv')\n",
    "data = data.astype(str)\n",
    "data.Product = 'PN' + data.Product.astype(str)\n",
    "data['isProduct']=data['Product'].apply(lambda x:len(x))\n",
    "\n",
    "data=data[data['isProduct']==15]#Only SKU to evaluate\n",
    "\n",
    "data.drop(data.columns[[1,3,4,5,6,-1]],axis=1,inplace=True)#Drop columns not usable\n",
    "#Fields formatting\n",
    "data.PostingDate=pd.to_datetime(data['PostingDate'], format='%Y-%m-%d')\n",
    "data.Quantity=pd.to_numeric(data['Quantity'],downcast='integer')\n",
    "data.TotalSale=pd.to_numeric(data['TotalSale'],downcast='float')\n",
    "\n",
    "data=data[data['Quantity']>0].reset_index().rename(columns={'Product': \"PN\"})#Only positive sales\n",
    "data=data.groupby(['PostingDate','PN']).agg({'Quantity':'sum','TotalSale':'sum'}).reset_index()#in case 2 sales on the same date"
   ]
  },
  {
   "cell_type": "code",
   "execution_count": 3,
   "id": "f8dea2ba-3f3f-47bf-8134-352256ab560b",
   "metadata": {},
   "outputs": [],
   "source": [
    "# unique SKU\n",
    "pn2023 = data['PN'].unique()"
   ]
  },
  {
   "cell_type": "code",
   "execution_count": 4,
   "id": "6671e098-11b0-497d-8709-daaa8a606893",
   "metadata": {},
   "outputs": [
    {
     "data": {
      "text/plain": [
       "DatetimeIndex(['2018-01-01', '2018-01-02', '2018-01-03', '2018-01-04',\n",
       "               '2018-01-05', '2018-01-06', '2018-01-07', '2018-01-08',\n",
       "               '2018-01-09', '2018-01-10',\n",
       "               ...\n",
       "               '2023-12-22', '2023-12-23', '2023-12-24', '2023-12-25',\n",
       "               '2023-12-26', '2023-12-27', '2023-12-28', '2023-12-29',\n",
       "               '2023-12-30', '2023-12-31'],\n",
       "              dtype='datetime64[ns]', length=2191, freq='D')"
      ]
     },
     "execution_count": 4,
     "metadata": {},
     "output_type": "execute_result"
    }
   ],
   "source": [
    "#unique id per date\n",
    "dates = pd.date_range('2018-01-01', '2023-12-31')\n",
    "dates"
   ]
  },
  {
   "cell_type": "code",
   "execution_count": 5,
   "id": "296d4f87-d519-40d9-ac31-ab0f371575fa",
   "metadata": {},
   "outputs": [
    {
     "name": "stdout",
     "output_type": "stream",
     "text": [
      "Total SKU =  198\n",
      "Total dates =  2191\n",
      "Rows=  433818\n"
     ]
    }
   ],
   "source": [
    "#Total of rows when making the full outer join\n",
    "print('Total SKU = ',len(pn2023)) #total SKU\n",
    "print('Total dates = ',dates.nunique())#total dates\n",
    "print('Rows= ',len(pn2023)*dates.nunique())#total rows"
   ]
  },
  {
   "cell_type": "code",
   "execution_count": 6,
   "id": "ecc6ad06-82d5-4225-a11c-88cbe56c1692",
   "metadata": {},
   "outputs": [
    {
     "data": {
      "text/plain": [
       "433818"
      ]
     },
     "execution_count": 6,
     "metadata": {},
     "output_type": "execute_result"
    }
   ],
   "source": [
    "# Dataframe with all rows for all SKU\n",
    "pn_index=pd.DataFrame(pn2023).rename(columns={0: \"PN\"})\n",
    "pn_index.set_index('PN',inplace=True,drop=False)\n",
    "pn_index=pn_index.apply(\n",
    "        lambda x: dates, axis=1\n",
    "    ).explode().reset_index(name='PostingDate')[['PostingDate', 'PN']]\n",
    "len(pn_index)"
   ]
  },
  {
   "cell_type": "code",
   "execution_count": 7,
   "id": "ec434dab-ec2c-40b5-838e-e18a7ac810f2",
   "metadata": {},
   "outputs": [
    {
     "name": "stdout",
     "output_type": "stream",
     "text": [
      "Posting Date 2191\n",
      "SKU length 13 198\n",
      "SKU length 10 71\n"
     ]
    }
   ],
   "source": [
    "#Create full dataframe\n",
    "df=pn_index.merge(data,how='left', on=['PostingDate','PN'])#left join with full index\n",
    "df['Quantity'] = df['Quantity'].fillna(0) #in case of null, fill with zero\n",
    "df['TotalSale'] = df['TotalSale'].fillna(0) #in case of null, fill with zero\n",
    "\n",
    "#adding date fields\n",
    "df['PN10']=df.PN.str[:12] #Trim the SKU\n",
    "df['Year']=df.PostingDate.dt.year\n",
    "df['Month']=df.PostingDate.dt.month\n",
    "df['Week']=df.PostingDate.dt.isocalendar().week\n",
    "df['DayofWeek']=df.PostingDate.dt.dayofweek\n",
    "\n",
    "print('Posting Date',df['PostingDate'].nunique())\n",
    "print('SKU length 13',df['PN'].nunique())\n",
    "print('SKU length 10',df['PN10'].nunique())"
   ]
  },
  {
   "cell_type": "code",
   "execution_count": 8,
   "id": "69a4f351-5a36-4acc-851c-f705f8bf1331",
   "metadata": {},
   "outputs": [
    {
     "name": "stdout",
     "output_type": "stream",
     "text": [
      "87623595\n",
      "87623595.0\n",
      "356551170.5872\n",
      "356551170.5872\n"
     ]
    }
   ],
   "source": [
    "# Checking we did not miss data\n",
    "print(data['Quantity'].sum())\n",
    "print(df['Quantity'].sum())\n",
    "print(data['TotalSale'].sum())\n",
    "print(df['TotalSale'].sum())"
   ]
  },
  {
   "cell_type": "code",
   "execution_count": 9,
   "id": "e9c6d132-66c0-4d14-8a42-e6bcbbfd72b1",
   "metadata": {},
   "outputs": [
    {
     "data": {
      "text/plain": [
       "71"
      ]
     },
     "execution_count": 9,
     "metadata": {},
     "output_type": "execute_result"
    }
   ],
   "source": [
    "df['PN10'].nunique()"
   ]
  },
  {
   "cell_type": "code",
   "execution_count": 10,
   "id": "50c35879-40d1-4e09-ad89-ac2789742e39",
   "metadata": {},
   "outputs": [
    {
     "name": "stdout",
     "output_type": "stream",
     "text": [
      "71\n",
      "2191\n",
      "Rows=  155561\n"
     ]
    }
   ],
   "source": [
    "# Checking if we group by PN10 SKU how many rows we get\n",
    "print(df['PN10'].nunique())\n",
    "print(dates.nunique())\n",
    "print('Rows= ',df['PN10'].nunique()*dates.nunique())"
   ]
  },
  {
   "cell_type": "code",
   "execution_count": 11,
   "id": "b239a6e5-83a9-413f-901e-3ce2ce2b49b7",
   "metadata": {},
   "outputs": [],
   "source": [
    "# write data which will be used\n",
    "df.to_csv('SalesbyPN.csv')"
   ]
  }
 ],
 "metadata": {
  "kernelspec": {
   "display_name": "Python 3 (ipykernel)",
   "language": "python",
   "name": "python3"
  },
  "language_info": {
   "codemirror_mode": {
    "name": "ipython",
    "version": 3
   },
   "file_extension": ".py",
   "mimetype": "text/x-python",
   "name": "python",
   "nbconvert_exporter": "python",
   "pygments_lexer": "ipython3",
   "version": "3.9.18"
  }
 },
 "nbformat": 4,
 "nbformat_minor": 5
}
